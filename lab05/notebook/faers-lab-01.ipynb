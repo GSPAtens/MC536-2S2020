{
 "cells": [
  {
   "cell_type": "code",
   "execution_count": null,
   "metadata": {},
   "outputs": [],
   "source": [
    "%defaultDatasource jdbc:h2:mem:db"
   ]
  },
  {
   "cell_type": "code",
   "execution_count": null,
   "metadata": {},
   "outputs": [],
   "source": [
    "DROP TABLE IF EXISTS Drug;\n",
    "DROP TABLE IF EXISTS Pathology;\n",
    "DROP TABLE IF EXISTS DrugUse;\n",
    "\n",
    "CREATE TABLE Drug (\n",
    "  code INT NOT NULL,\n",
    "  name VARCHAR(200) NOT NULL,\n",
    "  PRIMARY KEY(code)\n",
    ") AS SELECT\n",
    "    code,\n",
    "    name\n",
    "FROM CSVREAD('../../../data/faers-2017/drug.csv');\n",
    "\n",
    "CREATE TABLE Pathology (\n",
    "  code INT NOT NULL,\n",
    "  name VARCHAR(200) NOT NULL,\n",
    "  PRIMARY KEY(code)\n",
    ") AS SELECT\n",
    "    code,\n",
    "    name\n",
    "FROM CSVREAD('../../../data/faers-2017/pathology.csv');\n",
    "\n",
    "CREATE TABLE DrugUse (\n",
    "  idPerson INT NOT NULL,\n",
    "  codePathology INT NOT NULL,\n",
    "  codeDrug INT NOT NULL,\n",
    "  FOREIGN KEY(codePathology)\n",
    "    REFERENCES Pathology(code)\n",
    "      ON DELETE NO ACTION\n",
    "      ON UPDATE NO ACTION,\n",
    "  FOREIGN KEY(codeDrug)\n",
    "    REFERENCES Drug(code)\n",
    "      ON DELETE NO ACTION\n",
    "      ON UPDATE NO ACTION,\n",
    ") AS SELECT\n",
    "    idPerson,\n",
    "    codePathology,\n",
    "    codeDrug\n",
    "FROM CSVREAD('../../../data/faers-2017/drug-use.csv');\n",
    "\n",
    "CREATE TABLE SideEffect(\n",
    "  idPerson INT NOT NULL,\n",
    "  codePathology INT NOT NULL,\n",
    "  FOREIGN KEY(codePathology)\n",
    "    REFERENCES Pathology(code)\n",
    "      ON DELETE NO ACTION\n",
    "      ON UPDATE NO ACTION\n",
    ") AS SELECT idPerson, codePathology\n",
    "FROM CSVREAD('../../../data/faers-2017/sideeffect.csv');"
   ]
  },
  {
   "cell_type": "code",
   "execution_count": 1,
   "metadata": {},
   "outputs": [
    {
     "ename": "java.lang.RuntimeException",
     "evalue": " No datasource",
     "output_type": "error",
     "text": "java.lang.RuntimeException: No datasource",
     "traceback": [
      "\u001b[1;31mjava.lang.RuntimeException: No datasource\u001b[0;0m"
     ]
    }
   ],
   "source": [
    "SELECT * FROM Drug;\n",
    "SELECT * FROM Pathology;\n",
    "SELECT * FROM DrugUse;\n",
    "SELECT * FROM SideEffect;"
   ]
  },
  {
   "cell_type": "markdown",
   "metadata": {},
   "source": [
    "# FDA Adverse Event Reporting System (FAERS)\n",
    "\n",
    "Considere a base de dados que reúne relatos de efeitos adversos de drogas: [FDA Adverse Event Reporting System (FAERS)](https://open.fda.gov/data/faers/).\n",
    "\n",
    "As fontes de dados são publicadas e documentadas em: [Latest Quarterly Data Files](https://www.fda.gov/drugs/fda-adverse-event-reporting-system-faers/fda-adverse-event-reporting-system-faers-latest-quarterly-data-files)"
   ]
  },
  {
   "cell_type": "markdown",
   "metadata": {},
   "source": [
    "# Interação entre medicamentos\n",
    "Considere como uma interação toda vez que um medicamento A é tomado em conjunto com um medicamento B por uma pessoa. Crie uma consulta que retorne para cada par de medicamento A,B o número de interações, somente para aqueles medicamentos que são tomados em conjunto mais de 30 vezes (passaremos a chamar de **grupo mais 30**)."
   ]
  },
  {
   "cell_type": "code",
   "execution_count": null,
   "metadata": {},
   "outputs": [],
   "source": [
    "CREATE VIEW InteracaoParMedicamento AS SELECT dua.codeDrug codeDrugA, dub.codeDrug codeDrugB\n",
    "FROM (SELECT * FROM DrugUse ORDER BY codeDrug) AS dua CROSS JOIN (SELECT * FROM DrugUse ORDER BY codeDrug) AS dub\n",
    "WHERE dua.idPerson = dub.idPerson AND dua.codeDrug <> dub.codeDrug AND dua.codeDrug < dub.codeDrug\n",
    "\n",
    "CREATE VIEW GrupoMais30 AS SELECT ipm.codeDrugA drugA, ipm.codeDrugB drugB, COUNT(*) AS weight\n",
    "FROM InteracaoParMedicamento ipm\n",
    "GROUP BY codeDrugA, codeDrugB\n",
    "HAVING ocorrencia > 30\n",
    "\n",
    "SELECT * FROM GrupoMais30"
   ]
  },
  {
   "cell_type": "markdown",
   "metadata": {},
   "source": [
    "## Tabela Resultante\n",
    "\n",
    "Se estiver demorando muito para gerar a tabela, você poderá usar a seguinte tabela resultante pronta. Essa tabela tem todas as interações, você ainda precisará filtrar o **grupo mais 30**."
   ]
  },
  {
   "cell_type": "code",
   "execution_count": null,
   "metadata": {},
   "outputs": [],
   "source": [
    "CREATE TABLE DrugInteraction (\n",
    "  druga INT NOT NULL,\n",
    "  drugb INT NOT NULL,\n",
    "  weight INT NOT NULL,\n",
    "  PRIMARY KEY(druga, drugb)\n",
    ") AS SELECT\n",
    "    druga,\n",
    "    drugb,\n",
    "    weight\n",
    "FROM CSVREAD('../../../data/faers-2017/results/drug-interaction.csv');\n",
    "\n",
    "SELECT * FROM DrugInteraction;"
   ]
  },
  {
   "cell_type": "code",
   "execution_count": null,
   "metadata": {},
   "outputs": [],
   "source": [
    "CREATE VIEW GrupoMais30x AS SELECT di.druga drugA, di.drugb drugB, di.weight\n",
    "FROM DrugInteraction di\n",
    "WHERE di.weight > 30\n",
    "\n",
    "SELECT * FROM GrupoMais30x"
   ]
  },
  {
   "cell_type": "markdown",
   "metadata": {},
   "source": [
    "# Suporte\n",
    "\n",
    "### Qual o suporte que cada uma das associações tem?\n",
    "\n",
    "Gere uma consulta que apresente o suporte do **grupo mais 30**. Ordene o resultado por ordem de suporte. \n",
    "\n",
    "Observação: Para que o resultado da divisão seja fracionária, converta o numerador em `DOUBLE` usando:\n",
    "~~~sql\n",
    "CAST(campo AS DOUBLE)\n",
    "~~~"
   ]
  },
  {
   "cell_type": "code",
   "execution_count": null,
   "metadata": {},
   "outputs": [],
   "source": [
    "SELECT gm30.drugA, gm30.drugB, (CAST(gm30.weight AS DOUBLE)/(SELECT SUM(weight) FROM GrupoMais30x)) AS suporte\n",
    "FROM GrupoMais30x gm30\n",
    "ORDER BY suporte"
   ]
  },
  {
   "cell_type": "markdown",
   "metadata": {},
   "source": [
    "# Confiança\n",
    "\n",
    "### Qual a confiança que cada uma das associações tem?\n",
    "\n",
    "Gere uma consulta que apresente a confiança do **grupo mais 30**. Ordene o resultado por ordem de confiança."
   ]
  },
  {
   "cell_type": "code",
   "execution_count": null,
   "metadata": {},
   "outputs": [],
   "source": [
    "CREATE VIEW AparicaoDrugA AS SELECT drugA, SUM(weight) AS total\n",
    "FROM GrupoMais30x \n",
    "GROUP BY drugA\n",
    "\n",
    "SELECT gm30.drugA, gm30.drugB, (CAST(gm30.weight AS DOUBLE)/ada.total) AS confianca\n",
    "FROM GrupoMais30x gm30, AparicaoDrugA ada\n",
    "WHERE gm30.drugA = ada.drugA\n",
    "ORDER BY confianca"
   ]
  },
  {
   "cell_type": "markdown",
   "metadata": {},
   "source": [
    "# Efeito Colateral\n",
    "\n",
    "Para cada medicamento, qual o percentual do medicamento A que tem efeito colateral junto com o medicamento B, quando comparado com seu uso sem o medicamento B."
   ]
  },
  {
   "cell_type": "code",
   "execution_count": null,
   "metadata": {},
   "outputs": [],
   "source": [
    "CREATE VIEW DrogasEC AS SELECT du.codeDrug, du.idPerson\n",
    "FROM DrugUse du, SideEffect se\n",
    "WHERE du.idPerson = se.idPerson\n",
    "\n",
    "CREATE VIEW Pessoa1DrogaEC AS SELECT idPerson, COUNT(*) AS total\n",
    "FROM DrogasEC\n",
    "GROUP BY idPerson\n",
    "HAVING total = 1\n",
    "\n",
    "CREATE VIEW PessoaMultDrogas AS SELECT idPerson, COUNT(*) AS total\n",
    "FROM DrogasEC\n",
    "GROUP BY idPerson\n",
    "HAVING total > 1\n",
    "\n",
    "CREATE VIEW DrogaECSozinha AS SELECT def.codeDrug Drug, COUNT(*) AS total\n",
    "FROM DrogasEC def, Pessoa1Droga p1d\n",
    "WHERE def.idPerson = p1d.idPerson\n",
    "GROUP BY def.codeDrug\n",
    "\n",
    "CREATE VIEW ParDrogaEC AS SELECT deca.codeDrug drugA, decb.codeDrug drugB, COUNT(*) AS total\n",
    "FROM PessoaMultDrogas pmd, (SELECT * FROM DrogasEC ORDER BY codeDrug) AS deca CROSS JOIN (SELECT * FROM DrogasComEC ORDER BY codeDrug) AS decb\n",
    "WHERE deca.idPerson = pmd.idPerson AND deca.idPerson = decb.idPerson AND deca.codeDrug <> decb.codeDrug AND deca.codeDrug < decb.codeDrug\n",
    "GROUP BY drugA, drugB\n",
    "\n",
    "SELECT pdec.drugA, pdec.drugB, (CAST(pdec.total AS DOUBLE)/(SELECT defs.total FROM DrogaECsozinha defs, ParDrogaEC pd WHERE defs.Drug = pd.DrugA)) AS relacaoDrogaASozinha\n",
    "FROM ParDrogaEC\n",
    "ORDER BY pdec.drugA"
   ]
  }
 ],
 "metadata": {
  "kernelspec": {
   "display_name": "SQL",
   "language": "SQL",
   "name": "sql"
  },
  "language_info": {
   "codemirror_mode": "sql",
   "file_extension": ".sql",
   "mimetype": "",
   "name": "SQL",
   "nbconverter_exporter": "",
   "version": ""
  },
  "toc": {
   "base_numbering": 1,
   "nav_menu": {},
   "number_sections": false,
   "sideBar": false,
   "skip_h1_title": false,
   "title_cell": "Table of Contents",
   "title_sidebar": "Contents",
   "toc_cell": false,
   "toc_position": {},
   "toc_section_display": false,
   "toc_window_display": false
  }
 },
 "nbformat": 4,
 "nbformat_minor": 4
}
